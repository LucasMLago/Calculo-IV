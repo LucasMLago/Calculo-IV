{
 "cells": [
  {
   "cell_type": "markdown",
   "metadata": {},
   "source": [
    "# Questão 1\n",
    "---"
   ]
  },
  {
   "cell_type": "markdown",
   "metadata": {},
   "source": [
    "O objetivo é implementar uma função chamada *limite* para determinar o limite de uma sequência. Se baseando nos 3 casos abaixo:\n",
    "\n",
    "- Caso lim an = L ∈ R, a função deve retornar o valor com aproximação de 2 casas decimais.\n",
    "- Caso lim an = ∞, a função deve retornar “infinito”.\n",
    "- Caso lim an não existir, a função deve retornar “não existe”."
   ]
  },
  {
   "cell_type": "markdown",
   "metadata": {},
   "source": [
    "Vamos começar entendendo melhor como funciona a biblioteca *sympy* que servirá de exemplo para o desenvolvimento desta questão.\n",
    "\n",
    "---"
   ]
  },
  {
   "cell_type": "code",
   "execution_count": null,
   "metadata": {},
   "outputs": [],
   "source": [
    "from sympy import limit_seq\n",
    "from sympy import symbols"
   ]
  },
  {
   "cell_type": "code",
   "execution_count": 9,
   "metadata": {},
   "outputs": [
    {
     "data": {
      "text/latex": [
       "$\\displaystyle \\frac{5}{3}$"
      ],
      "text/plain": [
       "5/3"
      ]
     },
     "execution_count": 9,
     "metadata": {},
     "output_type": "execute_result"
    }
   ],
   "source": [
    "# determinando n como uma variável simbólica\n",
    "n = symbols('n')\n",
    "\n",
    "# determinando o limite de uma sequência\n",
    "limit_seq((5*n**3 + 3*n**2 + 4) / (3*n**3 + 4*n - 5), n)"
   ]
  },
  {
   "cell_type": "markdown",
   "metadata": {},
   "source": [
    "---\n",
    "Como podemos observar, a função *limit_seq* recebe dois argumentos. O primeiro, corresponde a sequência e o segundo corresponde a variável simbólica.\n",
    "\n",
    "- *sequence* => sequência a qual é desejado saber o limite\n",
    "- *n* => variável simbólica que representa o número de termos da sequência a medida que *n* se aproxima do + infinito"
   ]
  },
  {
   "cell_type": "markdown",
   "metadata": {},
   "source": [
    "## Resposta\n",
    "---"
   ]
  },
  {
   "cell_type": "markdown",
   "metadata": {},
   "source": [
    "Agora, vamos fazer a nossa própria função *limite* que retornará o limite de uma sequência qualquer recebendo também 2 argumentos, os mesmos da função *limit_seq* da biblioteca *sympy*.\n",
    "\n",
    "---"
   ]
  },
  {
   "cell_type": "code",
   "execution_count": 20,
   "metadata": {},
   "outputs": [],
   "source": [
    "from sympy import im # obtem a parte imaginária de uma função\n",
    "from sympy import limit # calcula o limite de uma função\n",
    "from sympy import Symbol # variável simbólica\n",
    "from sympy import oo # infinito"
   ]
  },
  {
   "cell_type": "code",
   "execution_count": 48,
   "metadata": {},
   "outputs": [],
   "source": [
    "n = Symbol('n')\n",
    "\n",
    "def limite(sequence, n):\n",
    "\n",
    "    # Determina o limite de uma sequência quando x tende ao infinito\n",
    "    lim = limit(sequence, n, oo)\n",
    "    \n",
    "    # Caso lim An = L\n",
    "    if im(lim) == 0: #Verifica se o valor é um número real\n",
    "        print(round(float(lim), 2))\n",
    "    \n",
    "    # Caso lim An = ∞ (infinito)\n",
    "    elif lim in {oo,-oo}:\n",
    "        print(\"∞ (infinito)\") \n",
    "    \n",
    "    # Caso não exista limite para a expressão\n",
    "    else:\n",
    "        print(\"Erro! Não existe limite para essa sequência.\")"
   ]
  },
  {
   "cell_type": "markdown",
   "metadata": {},
   "source": [
    "## Exemplos\n",
    "---"
   ]
  },
  {
   "cell_type": "code",
   "execution_count": 49,
   "metadata": {},
   "outputs": [
    {
     "name": "stdout",
     "output_type": "stream",
     "text": [
      "1.67\n"
     ]
    }
   ],
   "source": [
    "limite((5*n**3 + 3*n**2 + 4) / (3*n**3 + 4*n - 5),n)"
   ]
  },
  {
   "cell_type": "code",
   "execution_count": 50,
   "metadata": {},
   "outputs": [
    {
     "name": "stdout",
     "output_type": "stream",
     "text": [
      "inf\n"
     ]
    }
   ],
   "source": [
    "limite(n*2,n)"
   ]
  },
  {
   "cell_type": "code",
   "execution_count": 47,
   "metadata": {},
   "outputs": [
    {
     "name": "stdout",
     "output_type": "stream",
     "text": [
      "-inf\n"
     ]
    }
   ],
   "source": [
    "limite(-1**2*n,n)"
   ]
  },
  {
   "cell_type": "code",
   "execution_count": 46,
   "metadata": {},
   "outputs": [
    {
     "name": "stdout",
     "output_type": "stream",
     "text": [
      "Erro! Não existe limite para essa sequência.\n"
     ]
    }
   ],
   "source": [
    "limite((-1)**n,n)"
   ]
  },
  {
   "cell_type": "markdown",
   "metadata": {},
   "source": [
    "# Questão 2\n",
    "---"
   ]
  },
  {
   "cell_type": "markdown",
   "metadata": {},
   "source": [
    "O objetivo é implementar uma função chamada *estimador* que suporte como entrada uma sequência *An* e retorne uma\n",
    "aproximação da série convergente An com n começando em 1 e tendendo ao infinito."
   ]
  },
  {
   "cell_type": "markdown",
   "metadata": {},
   "source": [
    "## Letra (a)\n",
    "Obtenha três aproximações da série 1/n**3 com n começando em 1 e tendendo ao infinito usando a soma dos 10, 100 e 1000 primeiros termos. Estime o erro envolvido nessa aproximação.\n",
    "\n",
    "---"
   ]
  },
  {
   "cell_type": "code",
   "execution_count": 36,
   "metadata": {},
   "outputs": [],
   "source": [
    "# Define a variável simbólica 'n'\n",
    "n = Symbol('n')\n",
    "\n",
    "# Função para estimar a soma de uma série até N termos\n",
    "def estimador(An, N):\n",
    "    soma = sum(An.subs(n, i) for i in range(1, N + 1))\n",
    "    return soma"
   ]
  },
  {
   "cell_type": "code",
   "execution_count": 38,
   "metadata": {},
   "outputs": [
    {
     "name": "stdout",
     "output_type": "stream",
     "text": [
      "A aproximação é 1.19753198567419 para a soma dos 10 primeiros termos.\n",
      "O erro dessa aproximação é 0.0007513148009015778\n",
      "\n"
     ]
    },
    {
     "name": "stdout",
     "output_type": "stream",
     "text": [
      "A aproximação é 1.20200740065968 para a soma dos 100 primeiros termos.\n",
      "O erro dessa aproximação é 9.705901479276445e-07\n",
      "\n",
      "A aproximação é 1.20205640365934 para a soma dos 1000 primeiros termos.\n",
      "O erro dessa aproximação é 9.97005990014979e-10\n",
      "\n"
     ]
    }
   ],
   "source": [
    "An = 1/n**3\n",
    "\n",
    "for i in range(1, 4):\n",
    "    N = 10**i\n",
    "    approx = estimador(An, N).evalf()\n",
    "    error = abs(1 / (N + 1)**3)\n",
    "    print(f\"A aproximação é {approx} para a soma dos {N} primeiros termos.\")\n",
    "    print(f\"O erro dessa aproximação é {error}\\n\")"
   ]
  },
  {
   "cell_type": "markdown",
   "metadata": {},
   "source": [
    "## Letra (b)\n",
    "Sabendo que a série 1/n**2 = pi **2/6 que equivale, aproximadamente, 1.644934 = x. Obtenha o menor número de termos necessários para a função criada possuir mesma aproximação em casas decimais que x.\n",
    "\n",
    "---"
   ]
  },
  {
   "cell_type": "code",
   "execution_count": 41,
   "metadata": {},
   "outputs": [],
   "source": [
    "# Função para calcular o número de termos necessários para atingir uma precisão\n",
    "def num_termos(valor_alvo, precisao):\n",
    "    i = 1\n",
    "    soma = 1\n",
    "    while(abs(soma-valor_alvo)>precisao):\n",
    "        i +=  1\n",
    "        soma += 1/i**2\n",
    "    return i"
   ]
  },
  {
   "cell_type": "code",
   "execution_count": 42,
   "metadata": {},
   "outputs": [
    {
     "name": "stdout",
     "output_type": "stream",
     "text": [
      "Considerando n**(-2) e a aproximação x = 1.644934\n",
      "O menor número de termos necessários para ter a mesma aproximação que x é 937340\n"
     ]
    }
   ],
   "source": [
    "Bn = 1/n**2\n",
    "valor_alvo = 1.644934\n",
    "precisao = 1e-6\n",
    "\n",
    "print(f\"Considerando {Bn} e a aproximação x = {valor_alvo}\")\n",
    "min_termos = num_termos(valor_alvo, precisao)\n",
    "print(f\"O menor número de termos necessários para ter a mesma aproximação que x é {min_termos}\")"
   ]
  }
 ],
 "metadata": {
  "kernelspec": {
   "display_name": "Python 3",
   "language": "python",
   "name": "python3"
  },
  "language_info": {
   "codemirror_mode": {
    "name": "ipython",
    "version": 3
   },
   "file_extension": ".py",
   "mimetype": "text/x-python",
   "name": "python",
   "nbconvert_exporter": "python",
   "pygments_lexer": "ipython3",
   "version": "3.7.9"
  }
 },
 "nbformat": 4,
 "nbformat_minor": 2
}
